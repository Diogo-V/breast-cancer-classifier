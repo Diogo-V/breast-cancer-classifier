{
 "cells": [
  {
   "cell_type": "code",
   "execution_count": 7,
   "outputs": [],
   "source": [
    "# Import definition\n",
    "from sklearn.model_selection import StratifiedKFold\n",
    "from sklearn.preprocessing import LabelBinarizer\n",
    "from sklearn.neighbors import KNeighborsClassifier\n",
    "from scipy.io import arff\n",
    "from scipy.stats import ttest_ind\n",
    "import pandas as pd\n",
    "from sklearn.naive_bayes import MultinomialNB\n",
    "\n",
    "GROUP_NUMBER = 16  # Our group number"
   ],
   "metadata": {
    "collapsed": false,
    "pycharm": {
     "name": "#%%\n"
    }
   }
  },
  {
   "cell_type": "code",
   "execution_count": 8,
   "outputs": [],
   "source": [
    "# Loading dataset into working desk\n",
    "data = arff.loadarff('breast.w.arff')\n",
    "df = pd.DataFrame(data[0])\n",
    "\n",
    "# Removes NaN values from dataset by deleting rows\n",
    "df.dropna(axis=0, how=\"any\", inplace=True)"
   ],
   "metadata": {
    "collapsed": false,
    "pycharm": {
     "name": "#%%\n"
    }
   }
  },
  {
   "cell_type": "code",
   "execution_count": 9,
   "outputs": [],
   "source": [
    "# Gets X (data matrix) and y (target values column matrix)\n",
    "X = df.drop(\"Class\", axis=1).to_numpy()\n",
    "y = df[\"Class\"].to_numpy()\n",
    "\n",
    "# Performs some preprocessing by turning labels into binaries (benign is 1)\n",
    "# We are doing a \"double conversion\" to convert everything to Binary type\n",
    "for count, value in enumerate(y):\n",
    "    if value == b\"benign\":\n",
    "        y[count] = \"yes\"\n",
    "    else:\n",
    "        y[count] = \"no\"\n",
    "lb = LabelBinarizer()\n",
    "y = lb.fit_transform(y)\n",
    "\n",
    "# Holds accuracy for each model to be latter used in t-test\n",
    "knn_acc = []\n",
    "mnb_acc = []"
   ],
   "metadata": {
    "collapsed": false,
    "pycharm": {
     "name": "#%%\n"
    }
   }
  },
  {
   "cell_type": "code",
   "execution_count": 10,
   "outputs": [
    {
     "name": "stdout",
     "output_type": "stream",
     "text": [
      "0.9707374254049445\n"
     ]
    }
   ],
   "source": [
    "# Creates a k fold cross validator\n",
    "skf = StratifiedKFold(n_splits=10, shuffle=True, random_state=GROUP_NUMBER)\n",
    "\n",
    "# Creates KNN classifier for 3 neighbours\n",
    "knn = KNeighborsClassifier(3, weights=\"uniform\", p=2, metric=\"minkowski\")\n",
    "\n",
    "# For each train/test set, we use a KNN classifier\n",
    "for train_index, test_index in skf.split(X, y):\n",
    "\n",
    "    # Uses indexes to fetch which values are going to be used to train and test\n",
    "    X_train, X_test = X[train_index], X[test_index]\n",
    "    y_train, y_test = y[train_index], y[test_index]\n",
    "\n",
    "    # Trains knn classifier\n",
    "    knn.fit(X_train, y_train.ravel())\n",
    "\n",
    "    # Uses testing data and gets model accuracy\n",
    "    acc = knn.score(X_test, y_test)\n",
    "\n",
    "    # Appends accuracy to be latter used as input in a t-test to compare with gnb\n",
    "    knn_acc.append(acc)\n",
    "\n",
    "print(sum(knn_acc) / 10)"
   ],
   "metadata": {
    "collapsed": false,
    "pycharm": {
     "name": "#%%\n"
    }
   }
  },
  {
   "cell_type": "code",
   "execution_count": 11,
   "outputs": [
    {
     "name": "stdout",
     "output_type": "stream",
     "text": [
      "0.9033887468030691\n"
     ]
    }
   ],
   "source": [
    "# Creates a Multinomial Naive Bayes classifier (since the question tells us to use \"multinomial assumption\")\n",
    "mnb = MultinomialNB()\n",
    "\n",
    "# For each train/test set, we use train a Naive Bayes classifier\n",
    "for train_index, test_index in skf.split(X, y):\n",
    "\n",
    "    # Uses indexes to fetch which values are going to be used to train and test\n",
    "    X_train, X_test = X[train_index], X[test_index]\n",
    "    y_train, y_test = y[train_index], y[test_index]\n",
    "\n",
    "    # Trains gnb classifier\n",
    "    mnb.fit(X_train, y_train.ravel())\n",
    "\n",
    "    # Uses testing data and gets model accuracy\n",
    "    acc = mnb.score(X_test, y_test)\n",
    "\n",
    "    # Appends accuracy to be latter used as input in a t-test to compare with knn\n",
    "    mnb_acc.append(acc)\n",
    "\n",
    "print(sum(mnb_acc) / 10)"
   ],
   "metadata": {
    "collapsed": false,
    "pycharm": {
     "name": "#%%\n"
    }
   }
  },
  {
   "cell_type": "code",
   "execution_count": 12,
   "outputs": [
    {
     "name": "stdout",
     "output_type": "stream",
     "text": [
      "statistic: 6.152729145887098 | p_value: 8.255367260782866e-06\n"
     ]
    }
   ],
   "source": [
    "# Uses a t-test to compare both models and determine which one is better\n",
    "statistic, p_value = ttest_ind(knn_acc, mnb_acc, nan_policy=\"omit\", alternative=\"two-sided\")\n",
    "\n",
    "print(f\"statistic: {statistic} | p_value: {p_value}\")\n"
   ],
   "metadata": {
    "collapsed": false,
    "pycharm": {
     "name": "#%%\n"
    }
   }
  }
 ],
 "metadata": {
  "kernelspec": {
   "display_name": "Python 3",
   "language": "python",
   "name": "python3"
  },
  "language_info": {
   "codemirror_mode": {
    "name": "ipython",
    "version": 2
   },
   "file_extension": ".py",
   "mimetype": "text/x-python",
   "name": "python",
   "nbconvert_exporter": "python",
   "pygments_lexer": "ipython2",
   "version": "2.7.6"
  }
 },
 "nbformat": 4,
 "nbformat_minor": 0
}