{
 "cells": [
  {
   "cell_type": "code",
   "execution_count": 1,
   "metadata": {
    "collapsed": true
   },
   "outputs": [],
   "source": [
    "import pandas as pd\n",
    "from scipy.stats import multivariate_normal\n",
    "import numpy as np\n",
    "from matplotlib.pyplot import plot as plt\n",
    "from numpy.linalg import inv"
   ]
  },
  {
   "cell_type": "code",
   "execution_count": 2,
   "outputs": [],
   "source": [
    "input_var = {\n",
    "    \"y1\": [0.6, 0.1, 0.2, 0.1, 0.3, -0.1, -0.3, 0.2, 0.4, -0.2],\n",
    "    \"y2\": [\"A\", \"B\", \"A\", \"C\", \"B\", \"C\", \"C\", \"B\", \"A\", \"C\"],\n",
    "    \"y3\": [0.2, -0.1, -0.1, 0.8, 0.1, 0.2, -0.1, 0.5, -0.4, 0.4],\n",
    "    \"y4\": [0.4, -0.4, 0.2, 0.8, 0.3, -0.2, 0.2, 0.6, -0.7, 0.3],\n",
    "    \"class\": [0, 0, 0, 0, 1, 1, 1, 1, 1, 1]\n",
    "}\n",
    "\n",
    "new_df = pd.DataFrame.from_dict(input_var)\n",
    "new_df[0:4].head()\n",
    "\n",
    "class_0 = new_df[0:4]\n",
    "class_1 = new_df[4:10]\n",
    "\n",
    "class_0_y3_y4 = class_0[[\"y3\", \"y4\"]]\n",
    "class_1_y3_y4 = class_1[[\"y3\", \"y4\"]]\n",
    "class_0_y1 = class_0[[\"y1\"]]\n",
    "class_1_y1 = class_1[[\"y1\"]]"
   ],
   "metadata": {
    "collapsed": false,
    "pycharm": {
     "name": "#%%\n"
    }
   }
  },
  {
   "cell_type": "code",
   "execution_count": 3,
   "outputs": [
    {
     "data": {
      "text/plain": "y1    0.056667\ndtype: float64"
     },
     "execution_count": 3,
     "metadata": {},
     "output_type": "execute_result"
    }
   ],
   "source": [
    "class_0_y1.var()"
   ],
   "metadata": {
    "collapsed": false,
    "pycharm": {
     "name": "#%%\n"
    }
   }
  },
  {
   "cell_type": "code",
   "execution_count": 4,
   "outputs": [
    {
     "data": {
      "text/plain": "1.0803950586304263"
     },
     "execution_count": 4,
     "metadata": {},
     "output_type": "execute_result"
    }
   ],
   "source": [
    "rv_0_y3_y4 = multivariate_normal([0.20, 0.25], [[0.18, 0.18], [0.18, 0.25]])\n",
    "rv_0_y3_y4.pdf([0.4, 0.3])\n"
   ],
   "metadata": {
    "collapsed": false,
    "pycharm": {
     "name": "#%%\n"
    }
   }
  },
  {
   "cell_type": "code",
   "execution_count": 5,
   "outputs": [
    {
     "data": {
      "text/plain": "0.2029256603815257"
     },
     "execution_count": 5,
     "metadata": {},
     "output_type": "execute_result"
    }
   ],
   "source": [
    "rv_1_y3_y4 = multivariate_normal([0.1166, 0.08333], [[0.109667, 0.122333], [0.122333, 0.213667]])\n",
    "rv_1_y3_y4.pdf([0.8, 0.8])"
   ],
   "metadata": {
    "collapsed": false,
    "pycharm": {
     "name": "#%%\n"
    }
   }
  },
  {
   "cell_type": "code",
   "execution_count": 6,
   "outputs": [
    {
     "data": {
      "text/plain": "0.2807161943247219"
     },
     "execution_count": 6,
     "metadata": {},
     "output_type": "execute_result"
    }
   ],
   "source": [
    "rv_0_y1 = multivariate_normal(0.25, 0.056667)\n",
    "rv_0_y1.pdf(-0.2)"
   ],
   "metadata": {
    "collapsed": false,
    "pycharm": {
     "name": "#%%\n"
    }
   }
  },
  {
   "cell_type": "code",
   "execution_count": 7,
   "outputs": [
    {
     "data": {
      "text/plain": "1.364050471665823"
     },
     "execution_count": 7,
     "metadata": {},
     "output_type": "execute_result"
    }
   ],
   "source": [
    "rv_1_y1 = multivariate_normal(0.05, 0.083)\n",
    "rv_1_y1.pdf(0.1)"
   ],
   "metadata": {
    "collapsed": false,
    "pycharm": {
     "name": "#%%\n"
    }
   }
  },
  {
   "cell_type": "code",
   "execution_count": 8,
   "outputs": [
    {
     "name": "stdout",
     "output_type": "stream",
     "text": [
      "1: 0.07848415821080969 2: 0.9215158417891903\n"
     ]
    }
   ],
   "source": [
    "a = 0.03032\n",
    "b = 0.3560\n",
    "\n",
    "print(f\"acc: {}\")\n"
   ],
   "metadata": {
    "collapsed": false,
    "pycharm": {
     "name": "#%%\n"
    }
   }
  }
 ],
 "metadata": {
  "kernelspec": {
   "display_name": "Python 3",
   "language": "python",
   "name": "python3"
  },
  "language_info": {
   "codemirror_mode": {
    "name": "ipython",
    "version": 2
   },
   "file_extension": ".py",
   "mimetype": "text/x-python",
   "name": "python",
   "nbconvert_exporter": "python",
   "pygments_lexer": "ipython2",
   "version": "2.7.6"
  }
 },
 "nbformat": 4,
 "nbformat_minor": 0
}