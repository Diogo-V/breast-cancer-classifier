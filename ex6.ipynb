{
 "cells": [
  {
   "cell_type": "code",
   "execution_count": 7,
   "metadata": {
    "collapsed": true
   },
   "outputs": [],
   "source": [
    "# Import definition\n",
    "from sklearn.model_selection import StratifiedKFold\n",
    "from sklearn.preprocessing import LabelBinarizer\n",
    "from sklearn.neighbors import KNeighborsClassifier\n",
    "from scipy.io import arff\n",
    "import pandas as pd\n",
    "\n",
    "# Constants definition\n",
    "GROUP_NUMBER = 16  # Our group number\n",
    "NEIGHBOURS = [3, 5, 7]  # Number of neighbours to be used"
   ]
  },
  {
   "cell_type": "code",
   "execution_count": 8,
   "outputs": [
    {
     "data": {
      "text/plain": "     Clump_Thickness  Cell_Size_Uniformity  Cell_Shape_Uniformity  \\\n694              3.0                   1.0                    1.0   \n695              2.0                   1.0                    1.0   \n696              5.0                  10.0                   10.0   \n697              4.0                   8.0                    6.0   \n698              4.0                   8.0                    8.0   \n\n     Marginal_Adhesion  Single_Epi_Cell_Size  Bare_Nuclei  Bland_Chromatin  \\\n694                1.0                   3.0          2.0              1.0   \n695                1.0                   2.0          1.0              1.0   \n696                3.0                   7.0          3.0              8.0   \n697                4.0                   3.0          4.0             10.0   \n698                5.0                   4.0          5.0             10.0   \n\n     Normal_Nucleoli  Mitoses         Class  \n694              1.0      1.0     b'benign'  \n695              1.0      1.0     b'benign'  \n696             10.0      2.0  b'malignant'  \n697              6.0      1.0  b'malignant'  \n698              4.0      1.0  b'malignant'  ",
      "text/html": "<div>\n<style scoped>\n    .dataframe tbody tr th:only-of-type {\n        vertical-align: middle;\n    }\n\n    .dataframe tbody tr th {\n        vertical-align: top;\n    }\n\n    .dataframe thead th {\n        text-align: right;\n    }\n</style>\n<table border=\"1\" class=\"dataframe\">\n  <thead>\n    <tr style=\"text-align: right;\">\n      <th></th>\n      <th>Clump_Thickness</th>\n      <th>Cell_Size_Uniformity</th>\n      <th>Cell_Shape_Uniformity</th>\n      <th>Marginal_Adhesion</th>\n      <th>Single_Epi_Cell_Size</th>\n      <th>Bare_Nuclei</th>\n      <th>Bland_Chromatin</th>\n      <th>Normal_Nucleoli</th>\n      <th>Mitoses</th>\n      <th>Class</th>\n    </tr>\n  </thead>\n  <tbody>\n    <tr>\n      <th>694</th>\n      <td>3.0</td>\n      <td>1.0</td>\n      <td>1.0</td>\n      <td>1.0</td>\n      <td>3.0</td>\n      <td>2.0</td>\n      <td>1.0</td>\n      <td>1.0</td>\n      <td>1.0</td>\n      <td>b'benign'</td>\n    </tr>\n    <tr>\n      <th>695</th>\n      <td>2.0</td>\n      <td>1.0</td>\n      <td>1.0</td>\n      <td>1.0</td>\n      <td>2.0</td>\n      <td>1.0</td>\n      <td>1.0</td>\n      <td>1.0</td>\n      <td>1.0</td>\n      <td>b'benign'</td>\n    </tr>\n    <tr>\n      <th>696</th>\n      <td>5.0</td>\n      <td>10.0</td>\n      <td>10.0</td>\n      <td>3.0</td>\n      <td>7.0</td>\n      <td>3.0</td>\n      <td>8.0</td>\n      <td>10.0</td>\n      <td>2.0</td>\n      <td>b'malignant'</td>\n    </tr>\n    <tr>\n      <th>697</th>\n      <td>4.0</td>\n      <td>8.0</td>\n      <td>6.0</td>\n      <td>4.0</td>\n      <td>3.0</td>\n      <td>4.0</td>\n      <td>10.0</td>\n      <td>6.0</td>\n      <td>1.0</td>\n      <td>b'malignant'</td>\n    </tr>\n    <tr>\n      <th>698</th>\n      <td>4.0</td>\n      <td>8.0</td>\n      <td>8.0</td>\n      <td>5.0</td>\n      <td>4.0</td>\n      <td>5.0</td>\n      <td>10.0</td>\n      <td>4.0</td>\n      <td>1.0</td>\n      <td>b'malignant'</td>\n    </tr>\n  </tbody>\n</table>\n</div>"
     },
     "execution_count": 8,
     "metadata": {},
     "output_type": "execute_result"
    }
   ],
   "source": [
    "# Loading dataset into working desk\n",
    "data = arff.loadarff('breast.w.arff')\n",
    "df = pd.DataFrame(data[0])\n",
    "\n",
    "# Removes NaN values from dataset by deleting rows\n",
    "df.dropna(axis=0, how=\"any\", inplace=True)\n",
    "\n",
    "df.tail()"
   ],
   "metadata": {
    "collapsed": false,
    "pycharm": {
     "name": "#%%\n"
    }
   }
  },
  {
   "cell_type": "code",
   "execution_count": 9,
   "outputs": [],
   "source": [
    "# Gets X (data matrix) and y (target values column matrix)\n",
    "X = df.drop(\"Class\", axis=1).to_numpy()\n",
    "y = df[\"Class\"].to_numpy()\n",
    "\n",
    "# Performs some preprocessing by turning labels into binaries (benign is 1)\n",
    "# We are doing a \"double conversion\" to convert everything to Binary type\n",
    "for count, value in enumerate(y):\n",
    "    if value == b\"benign\":\n",
    "        y[count] = \"yes\"\n",
    "    else:\n",
    "        y[count] = \"no\"\n",
    "lb = LabelBinarizer()\n",
    "y = lb.fit_transform(y)"
   ],
   "metadata": {
    "collapsed": false,
    "pycharm": {
     "name": "#%%\n"
    }
   }
  },
  {
   "cell_type": "code",
   "execution_count": 10,
   "outputs": [
    {
     "name": "stdout",
     "output_type": "stream",
     "text": [
      "Classifying n = 3:\n",
      "Acc using test data 0.9565217391304348\n",
      "Acc using training data 0.9853420195439739\n",
      "Acc using test data 0.9710144927536232\n",
      "Acc using training data 0.9820846905537459\n",
      "Acc using test data 0.9710144927536232\n",
      "Acc using training data 0.9804560260586319\n",
      "Acc using test data 0.9705882352941176\n",
      "Acc using training data 0.9788617886178862\n",
      "Acc using test data 0.9558823529411765\n",
      "Acc using training data 0.9804878048780488\n",
      "Acc using test data 0.9705882352941176\n",
      "Acc using training data 0.9772357723577236\n",
      "Acc using test data 0.9705882352941176\n",
      "Acc using training data 0.9804878048780488\n",
      "Acc using test data 0.9705882352941176\n",
      "Acc using training data 0.9788617886178862\n",
      "Acc using test data 0.9852941176470589\n",
      "Acc using training data 0.9772357723577236\n",
      "Acc using test data 0.9852941176470589\n",
      "Acc using training data 0.9788617886178862\n",
      "\n",
      "\n",
      "Classifying n = 5:\n",
      "Acc using test data 0.9565217391304348\n",
      "Acc using training data 0.9853420195439739\n",
      "Acc using test data 0.9710144927536232\n",
      "Acc using training data 0.9820846905537459\n",
      "Acc using test data 0.9710144927536232\n",
      "Acc using training data 0.9804560260586319\n",
      "Acc using test data 0.9852941176470589\n",
      "Acc using training data 0.9804878048780488\n",
      "Acc using test data 0.9852941176470589\n",
      "Acc using training data 0.9804878048780488\n",
      "Acc using test data 0.9705882352941176\n",
      "Acc using training data 0.983739837398374\n",
      "Acc using test data 0.9852941176470589\n",
      "Acc using training data 0.9821138211382113\n",
      "Acc using test data 0.9852941176470589\n",
      "Acc using training data 0.9788617886178862\n",
      "Acc using test data 0.9705882352941176\n",
      "Acc using training data 0.9788617886178862\n",
      "Acc using test data 0.9852941176470589\n",
      "Acc using training data 0.9772357723577236\n",
      "\n",
      "\n",
      "Classifying n = 7:\n",
      "Acc using test data 0.9420289855072463\n",
      "Acc using training data 0.9804560260586319\n",
      "Acc using test data 0.9855072463768116\n",
      "Acc using training data 0.9804560260586319\n",
      "Acc using test data 0.9855072463768116\n",
      "Acc using training data 0.9820846905537459\n",
      "Acc using test data 0.9705882352941176\n",
      "Acc using training data 0.9788617886178862\n",
      "Acc using test data 0.9558823529411765\n",
      "Acc using training data 0.9772357723577236\n",
      "Acc using test data 0.9705882352941176\n",
      "Acc using training data 0.9821138211382113\n",
      "Acc using test data 0.9705882352941176\n",
      "Acc using training data 0.9772357723577236\n",
      "Acc using test data 0.9852941176470589\n",
      "Acc using training data 0.9788617886178862\n",
      "Acc using test data 0.9852941176470589\n",
      "Acc using training data 0.975609756097561\n",
      "Acc using test data 0.9852941176470589\n",
      "Acc using training data 0.9772357723577236\n",
      "\n",
      "\n"
     ]
    }
   ],
   "source": [
    "# We need to create a classifier for each number of neighbours\n",
    "for n in NEIGHBOURS:\n",
    "\n",
    "    print(f\"Classifying n = {n}:\")\n",
    "\n",
    "    # Creates a k fold cross validator\n",
    "    skf = StratifiedKFold(n_splits=10, shuffle=True, random_state=GROUP_NUMBER)\n",
    "\n",
    "    # Creates KNN classifier for n neighbours\n",
    "    clf = KNeighborsClassifier(n, weights=\"uniform\", p=2, metric=\"minkowski\")\n",
    "\n",
    "    # For each train/test set, we use a KNN classifier\n",
    "    for train_index, test_index in skf.split(X, y):\n",
    "\n",
    "        # Uses indexes to fetch which values are going to be used to train and test\n",
    "        X_train, X_test = X[train_index], X[test_index]\n",
    "        y_train, y_test = y[train_index], y[test_index]\n",
    "\n",
    "        # Trains knn classifier\n",
    "        clf.fit(X_train, y_train.ravel())\n",
    "\n",
    "        # Uses testing data and gets model accuracy\n",
    "        acc = clf.score(X_test, y_test)\n",
    "        print(f\"Acc using test data {acc}\")\n",
    "\n",
    "        # Uses training data and gets model accuracy to determine over fitting\n",
    "        acc = clf.score(X_train, y_train)\n",
    "        print(f\"Acc using training data {acc}\")\n",
    "\n",
    "    print(\"\\n\")\n"
   ],
   "metadata": {
    "collapsed": false,
    "pycharm": {
     "name": "#%%\n"
    }
   }
  }
 ],
 "metadata": {
  "kernelspec": {
   "display_name": "Python 3",
   "language": "python",
   "name": "python3"
  },
  "language_info": {
   "codemirror_mode": {
    "name": "ipython",
    "version": 2
   },
   "file_extension": ".py",
   "mimetype": "text/x-python",
   "name": "python",
   "nbconvert_exporter": "python",
   "pygments_lexer": "ipython2",
   "version": "2.7.6"
  }
 },
 "nbformat": 4,
 "nbformat_minor": 0
}