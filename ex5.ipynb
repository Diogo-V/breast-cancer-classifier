{
 "cells": [
  {
   "cell_type": "code",
   "execution_count": 1,
   "id": "770822de-4644-4b0f-b856-dad5e83dacca",
   "metadata": {},
   "outputs": [],
   "source": [
    "# Import definition\n",
    "from scipy.io import arff\n",
    "import pandas as pd"
   ]
  },
  {
   "cell_type": "code",
   "execution_count": 2,
   "id": "9ac933ec-c500-48a6-9f13-77b82f7476d9",
   "metadata": {},
   "outputs": [
    {
     "data": {
      "text/plain": "   Clump_Thickness  Cell_Size_Uniformity  Cell_Shape_Uniformity  \\\n0              5.0                   1.0                    1.0   \n1              5.0                   4.0                    4.0   \n2              3.0                   1.0                    1.0   \n3              6.0                   8.0                    8.0   \n4              4.0                   1.0                    1.0   \n\n   Marginal_Adhesion  Single_Epi_Cell_Size  Bare_Nuclei  Bland_Chromatin  \\\n0                1.0                   2.0          1.0              3.0   \n1                5.0                   7.0         10.0              3.0   \n2                1.0                   2.0          2.0              3.0   \n3                1.0                   3.0          4.0              3.0   \n4                3.0                   2.0          1.0              3.0   \n\n   Normal_Nucleoli  Mitoses      Class  \n0              1.0      1.0  b'benign'  \n1              2.0      1.0  b'benign'  \n2              1.0      1.0  b'benign'  \n3              7.0      1.0  b'benign'  \n4              1.0      1.0  b'benign'  ",
      "text/html": "<div>\n<style scoped>\n    .dataframe tbody tr th:only-of-type {\n        vertical-align: middle;\n    }\n\n    .dataframe tbody tr th {\n        vertical-align: top;\n    }\n\n    .dataframe thead th {\n        text-align: right;\n    }\n</style>\n<table border=\"1\" class=\"dataframe\">\n  <thead>\n    <tr style=\"text-align: right;\">\n      <th></th>\n      <th>Clump_Thickness</th>\n      <th>Cell_Size_Uniformity</th>\n      <th>Cell_Shape_Uniformity</th>\n      <th>Marginal_Adhesion</th>\n      <th>Single_Epi_Cell_Size</th>\n      <th>Bare_Nuclei</th>\n      <th>Bland_Chromatin</th>\n      <th>Normal_Nucleoli</th>\n      <th>Mitoses</th>\n      <th>Class</th>\n    </tr>\n  </thead>\n  <tbody>\n    <tr>\n      <th>0</th>\n      <td>5.0</td>\n      <td>1.0</td>\n      <td>1.0</td>\n      <td>1.0</td>\n      <td>2.0</td>\n      <td>1.0</td>\n      <td>3.0</td>\n      <td>1.0</td>\n      <td>1.0</td>\n      <td>b'benign'</td>\n    </tr>\n    <tr>\n      <th>1</th>\n      <td>5.0</td>\n      <td>4.0</td>\n      <td>4.0</td>\n      <td>5.0</td>\n      <td>7.0</td>\n      <td>10.0</td>\n      <td>3.0</td>\n      <td>2.0</td>\n      <td>1.0</td>\n      <td>b'benign'</td>\n    </tr>\n    <tr>\n      <th>2</th>\n      <td>3.0</td>\n      <td>1.0</td>\n      <td>1.0</td>\n      <td>1.0</td>\n      <td>2.0</td>\n      <td>2.0</td>\n      <td>3.0</td>\n      <td>1.0</td>\n      <td>1.0</td>\n      <td>b'benign'</td>\n    </tr>\n    <tr>\n      <th>3</th>\n      <td>6.0</td>\n      <td>8.0</td>\n      <td>8.0</td>\n      <td>1.0</td>\n      <td>3.0</td>\n      <td>4.0</td>\n      <td>3.0</td>\n      <td>7.0</td>\n      <td>1.0</td>\n      <td>b'benign'</td>\n    </tr>\n    <tr>\n      <th>4</th>\n      <td>4.0</td>\n      <td>1.0</td>\n      <td>1.0</td>\n      <td>3.0</td>\n      <td>2.0</td>\n      <td>1.0</td>\n      <td>3.0</td>\n      <td>1.0</td>\n      <td>1.0</td>\n      <td>b'benign'</td>\n    </tr>\n  </tbody>\n</table>\n</div>"
     },
     "execution_count": 2,
     "metadata": {},
     "output_type": "execute_result"
    }
   ],
   "source": [
    "# Loading dataset into working desk\n",
    "data = arff.loadarff('breast.w.arff')\n",
    "df = pd.DataFrame(data[0])\n",
    "\n",
    "df.head()"
   ]
  },
  {
   "cell_type": "code",
   "execution_count": 9,
   "id": "d309fa9e-047e-49ab-b22e-ab9d66fe0e0d",
   "metadata": {
    "pycharm": {
     "name": "#%%\n"
    }
   },
   "outputs": [
    {
     "data": {
      "text/plain": "    y1 y2   y3   y4  class\n0  0.6  A  0.2  0.4      0\n1  0.1  B -0.1 -0.4      0\n2  0.2  A -0.1  0.2      0\n3  0.1  C  0.8  0.8      0",
      "text/html": "<div>\n<style scoped>\n    .dataframe tbody tr th:only-of-type {\n        vertical-align: middle;\n    }\n\n    .dataframe tbody tr th {\n        vertical-align: top;\n    }\n\n    .dataframe thead th {\n        text-align: right;\n    }\n</style>\n<table border=\"1\" class=\"dataframe\">\n  <thead>\n    <tr style=\"text-align: right;\">\n      <th></th>\n      <th>y1</th>\n      <th>y2</th>\n      <th>y3</th>\n      <th>y4</th>\n      <th>class</th>\n    </tr>\n  </thead>\n  <tbody>\n    <tr>\n      <th>0</th>\n      <td>0.6</td>\n      <td>A</td>\n      <td>0.2</td>\n      <td>0.4</td>\n      <td>0</td>\n    </tr>\n    <tr>\n      <th>1</th>\n      <td>0.1</td>\n      <td>B</td>\n      <td>-0.1</td>\n      <td>-0.4</td>\n      <td>0</td>\n    </tr>\n    <tr>\n      <th>2</th>\n      <td>0.2</td>\n      <td>A</td>\n      <td>-0.1</td>\n      <td>0.2</td>\n      <td>0</td>\n    </tr>\n    <tr>\n      <th>3</th>\n      <td>0.1</td>\n      <td>C</td>\n      <td>0.8</td>\n      <td>0.8</td>\n      <td>0</td>\n    </tr>\n  </tbody>\n</table>\n</div>"
     },
     "execution_count": 9,
     "metadata": {},
     "output_type": "execute_result"
    }
   ],
   "source": [
    "input_var = {\n",
    "    \"y1\": [0.6, 0.1, 0.2, 0.1, 0.3, -0.1, -0.3, 0.2, 0.4, -0.2],\n",
    "    \"y2\": [\"A\", \"B\", \"A\", \"C\", \"B\", \"C\", \"C\", \"B\", \"A\", \"C\"],\n",
    "    \"y3\": [0.2, -0.1, -0.1, 0.8, 0.1, 0.2, -0.1, 0.5, -0.4, 0.4],\n",
    "    \"y4\": [0.4, -0.4, 0.2, 0.8, 0.3, -0.2, 0.2, 0.6, -0.7, 0.3],\n",
    "    \"class\": [0, 0, 0, 0, 1, 1, 1, 1, 1, 1]\n",
    "}\n",
    "\n",
    "new_df = pd.DataFrame.from_dict(input_var)\n",
    "new_df[0:4].head()\n"
   ]
  },
  {
   "cell_type": "code",
   "execution_count": 10,
   "outputs": [
    {
     "name": "stderr",
     "output_type": "stream",
     "text": [
      "/tmp/ipykernel_20108/3964912560.py:1: FutureWarning: Dropping of nuisance columns in DataFrame reductions (with 'numeric_only=None') is deprecated; in a future version this will raise TypeError.  Select only valid columns before calling the reduction.\n",
      "  new_df[0:4].std()\n"
     ]
    },
    {
     "data": {
      "text/plain": "y1       0.238048\ny3       0.424264\ny4       0.500000\nclass    0.000000\ndtype: float64"
     },
     "execution_count": 10,
     "metadata": {},
     "output_type": "execute_result"
    }
   ],
   "source": [
    "new_df[0:4].std()"
   ],
   "metadata": {
    "collapsed": false,
    "pycharm": {
     "name": "#%%\n"
    }
   }
  },
  {
   "cell_type": "code",
   "execution_count": 11,
   "outputs": [
    {
     "name": "stderr",
     "output_type": "stream",
     "text": [
      "/tmp/ipykernel_20108/3437469221.py:1: FutureWarning: Dropping of nuisance columns in DataFrame reductions (with 'numeric_only=None') is deprecated; in a future version this will raise TypeError.  Select only valid columns before calling the reduction.\n",
      "  new_df[0:4].mean()\n"
     ]
    },
    {
     "data": {
      "text/plain": "y1       0.25\ny3       0.20\ny4       0.25\nclass    0.00\ndtype: float64"
     },
     "execution_count": 11,
     "metadata": {},
     "output_type": "execute_result"
    }
   ],
   "source": [
    "new_df[0:4].mean()\n"
   ],
   "metadata": {
    "collapsed": false,
    "pycharm": {
     "name": "#%%\n"
    }
   }
  }
 ],
 "metadata": {
  "kernelspec": {
   "display_name": "Python 3",
   "language": "python",
   "name": "python3"
  },
  "language_info": {
   "codemirror_mode": {
    "name": "ipython",
    "version": 3
   },
   "file_extension": ".py",
   "mimetype": "text/x-python",
   "name": "python",
   "nbconvert_exporter": "python",
   "pygments_lexer": "ipython3",
   "version": "3.8.8"
  }
 },
 "nbformat": 4,
 "nbformat_minor": 5
}